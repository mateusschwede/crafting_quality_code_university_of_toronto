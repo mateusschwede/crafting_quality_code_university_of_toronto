{
  "cells": [
    {
      "cell_type": "markdown",
      "source": [
        "# Palíndromo:\n",
        "String que é igual de frente pra trás, e de trás pra frente\n",
        "\n",
        "- Algoritmo 1: Comparar String reversa com a original\n",
        "\n",
        "- Algoritmo 2: Dividir String ao meio, e inverter a metade direita (deverá ser igual a metade esquerda)\n",
        "acecar = rac|e|car\n",
        "\n",
        "- Algoritmo 3: Comparar pares de letras na String. Comparar primeira com última letra. Depois, comparar segunda com penúltima letra. Assim, sucessivamente, até encostar no meio da String\n",
        "noon = nn, oo\n",
        "racecar = rr, aa, cc"
      ],
      "metadata": {
        "id": "f9XGg3l_txaP"
      }
    },
    {
      "cell_type": "code",
      "source": [
        "def is_palindrome_v1(s):\n",
        "  return reverse(s) == s\n",
        "\n",
        "def reverse(s):\n",
        "  rev = ''\n",
        "  for ch in s:\n",
        "    rev = ch + rev\n",
        "  return rev\n",
        "\n",
        "reverse('hello')\n",
        "is_palindrome_v1('noon')"
      ],
      "metadata": {
        "id": "pY-5QD4Qt5Iy",
        "colab": {
          "base_uri": "https://localhost:8080/"
        },
        "outputId": "2869f286-22a2-448b-d392-d458d498d3b4"
      },
      "execution_count": null,
      "outputs": [
        {
          "output_type": "execute_result",
          "data": {
            "text/plain": [
              "True"
            ]
          },
          "metadata": {},
          "execution_count": 1
        }
      ]
    },
    {
      "cell_type": "code",
      "source": [
        "def is_palindrome_v2(s):\n",
        "  n = len(s)\n",
        "  return s[:n // 2] == reverse(s[n - n // 2:])\n",
        "\n",
        "def reverse(s):\n",
        "  rev = ''\n",
        "  for ch in s:\n",
        "    rev = ch + rev\n",
        "  return rev\n",
        "\n",
        "is_palindrome_v2('noon')"
      ],
      "metadata": {
        "colab": {
          "base_uri": "https://localhost:8080/"
        },
        "id": "iuqcIgYLCxng",
        "outputId": "61cf05ed-b7f8-402e-e8c8-d238f6110136"
      },
      "execution_count": null,
      "outputs": [
        {
          "output_type": "execute_result",
          "data": {
            "text/plain": [
              "False"
            ]
          },
          "metadata": {},
          "execution_count": 3
        }
      ]
    },
    {
      "cell_type": "code",
      "source": [
        "def is_palindrome_v3(s):\n",
        "  i = 0 # Primeiro index\n",
        "  j = len(s) - 1 # Último index\n",
        "\n",
        "  while i < j and s[i] == s[j]:\n",
        "    i += 1\n",
        "    j -= 1\n",
        "  return j <= i\n",
        "\n",
        "def reverse(s):\n",
        "  rev = ''\n",
        "  for ch in s:\n",
        "    rev = ch + rev\n",
        "  return rev\n",
        "\n",
        "is_palindrome_v2('noon')"
      ],
      "metadata": {
        "colab": {
          "base_uri": "https://localhost:8080/"
        },
        "id": "LG7oli9WGlF6",
        "outputId": "b0c380dd-adef-4b72-f4b8-378fdc40b786"
      },
      "execution_count": null,
      "outputs": [
        {
          "output_type": "execute_result",
          "data": {
            "text/plain": [
              "False"
            ]
          },
          "metadata": {},
          "execution_count": 5
        }
      ]
    },
    {
      "cell_type": "markdown",
      "source": [
        "# Restaurantes:\n",
        "Arquivo txt com lista de restaurantes, contendo, para cada item: nomeRestaurante, percentualPessoasGostaram, faixaPreco, tipoCozinha. Construir algoritmo de recomendação ordenada dos restaures. O algoritmo procurará restaures pelas suas características, através de filtros (via dicionários Python)."
      ],
      "metadata": {
        "id": "Bb0fjNkAJuYR"
      }
    },
    {
      "cell_type": "markdown",
      "source": [
        "**Arquivo** ('restaurants_small.txt')\n",
        "\n",
        "Georgie Porgie\n",
        "87%\n",
        "$$$\n",
        "Canadian, Pub Food\n",
        "\n",
        "Queen St. Cafe\n",
        "82%\n",
        "$\n",
        "Malaysian, Thai\n",
        "\n",
        "Dumplings R Us\n",
        "71%\n",
        "$\n",
        "Chinese\n",
        "\n",
        "Mexican Grill\n",
        "85%\n",
        "$$\n",
        "Mexican\n",
        "\n",
        "Deep Fried Everything\n",
        "52%\n",
        "$\n",
        "Pub Food"
      ],
      "metadata": {
        "id": "Tw9D4g19s8D_"
      }
    },
    {
      "cell_type": "code",
      "source": [
        "# dict of {str: int}\n",
        "name_to_rating = {\n",
        "    'Georgie Porgie': 87,\n",
        "    'Queen St. Cafe': 82,\n",
        "    'Dumplings R Us': 71,\n",
        "    'Mexican Grill': 85,\n",
        "    'Deep Fried Everything': 52\n",
        "}\n",
        "name_to_rating['Queen St. Cafe']\n",
        "\n",
        "# dic of {str: list of str}\n",
        "price_to_names = {\n",
        "    '$': ['Queen St. Cafe', 'Dumplings R Us', 'Deep Fried Everything'],\n",
        "    '$$': ['Mexican Grill'],\n",
        "    '$$$': ['Georgie Porgie'],\n",
        "    '$$$$': []\n",
        "}\n",
        "price_to_names['$']\n",
        "\n",
        "# dic of {str: list of str}\n",
        "cuisine_to_names = {\n",
        "    'Canadian': ['Georgie Porgie'],\n",
        "    'Pub Food': ['Deep Fried Everything', 'Georgie Porgie'],\n",
        "    'Malaysian': ['Queen St. Cafe'],\n",
        "    'Thai': ['Queen St. Cafe'],\n",
        "    'Chinese': ['Dumplings R Us'],\n",
        "    'Mexican': ['Mexican Grill']\n",
        "}\n",
        "cuisine_to_names['Chinese']"
      ],
      "metadata": {
        "colab": {
          "base_uri": "https://localhost:8080/"
        },
        "id": "qM0Qe5cKtgtq",
        "outputId": "56e53ef9-e351-4299-f2b7-6b1c983bc0e5"
      },
      "execution_count": null,
      "outputs": [
        {
          "output_type": "execute_result",
          "data": {
            "text/plain": [
              "['Dumplings R Us']"
            ]
          },
          "metadata": {},
          "execution_count": 16
        }
      ]
    },
    {
      "cell_type": "markdown",
      "source": [
        "Abaixo, código para gerar lista ordenada de recomendações de restaurantes, conforme solicitação do usuário"
      ],
      "metadata": {
        "id": "9VklVZWu1UBp"
      }
    },
    {
      "cell_type": "code",
      "source": [
        "FILENAME = 'restaurants_small.txt'\n",
        "\n",
        "def recommend(file, price, cuisines_list):\n",
        "\n",
        "  # 1.Leitura dos dados: Ler dicts\n",
        "  name_to_rating, price_to_names, couisine_to_names = read_restaurants(file)\n",
        "\n",
        "  # 2.Preços\n",
        "  names_matching_price = price_to_names[price]\n",
        "  names_final = filter_by_cuisine(names_matching_price, cuisine_to_names, cuisines_list)\n",
        "  result = build_rating_list(name_to_rating, names_final)\n",
        "\n",
        "  return result\n",
        "\n",
        "def build_rating_list(name_to_rating, names_final): # ou names\n",
        "\n",
        "\n",
        "def filter_by_cuisine(names_matching_price, cuisine_to_names, cuisines_list):\n",
        "\n",
        "def read_restaurants(file):\n",
        "  # file -> dict,dict,dict\n",
        "  name_to_rating = {}\n",
        "  price_to_names = {'$': [], '$$': [], '$$$': [], '$$$$': []}\n",
        "  cuisine_to_names = {}"
      ],
      "metadata": {
        "id": "DfQ39ya-0P8i"
      },
      "execution_count": null,
      "outputs": []
    },
    {
      "cell_type": "code",
      "source": [
        "def is_palindrome_v3(s):\n",
        "\n",
        "  for i in range(len(s) // 2):\n",
        "    if s[i] != s[len(s) - i]:\n",
        "      return False\n",
        "\n",
        "  return True\n",
        "\n",
        "\n",
        "is_palindrome_v3('ded')"
      ],
      "metadata": {
        "colab": {
          "base_uri": "https://localhost:8080/",
          "height": 263
        },
        "id": "D7enn6vQ4uWf",
        "outputId": "7e4770ac-99f0-4ed2-a09f-dc4f91522689"
      },
      "execution_count": null,
      "outputs": [
        {
          "output_type": "error",
          "ename": "IndexError",
          "evalue": "string index out of range",
          "traceback": [
            "\u001b[0;31m---------------------------------------------------------------------------\u001b[0m",
            "\u001b[0;31mIndexError\u001b[0m                                Traceback (most recent call last)",
            "\u001b[0;32m<ipython-input-21-31c62b6e4b71>\u001b[0m in \u001b[0;36m<cell line: 1>\u001b[0;34m()\u001b[0m\n\u001b[0;32m----> 1\u001b[0;31m \u001b[0mis_palindrome_v3\u001b[0m\u001b[0;34m(\u001b[0m\u001b[0;34m'ded'\u001b[0m\u001b[0;34m)\u001b[0m\u001b[0;34m\u001b[0m\u001b[0;34m\u001b[0m\u001b[0m\n\u001b[0m",
            "\u001b[0;32m<ipython-input-19-7786a2abdd7d>\u001b[0m in \u001b[0;36mis_palindrome_v3\u001b[0;34m(s)\u001b[0m\n\u001b[1;32m      2\u001b[0m \u001b[0;34m\u001b[0m\u001b[0m\n\u001b[1;32m      3\u001b[0m   \u001b[0;32mfor\u001b[0m \u001b[0mi\u001b[0m \u001b[0;32min\u001b[0m \u001b[0mrange\u001b[0m\u001b[0;34m(\u001b[0m\u001b[0mlen\u001b[0m\u001b[0;34m(\u001b[0m\u001b[0ms\u001b[0m\u001b[0;34m)\u001b[0m \u001b[0;34m//\u001b[0m \u001b[0;36m2\u001b[0m\u001b[0;34m)\u001b[0m\u001b[0;34m:\u001b[0m\u001b[0;34m\u001b[0m\u001b[0;34m\u001b[0m\u001b[0m\n\u001b[0;32m----> 4\u001b[0;31m     \u001b[0;32mif\u001b[0m \u001b[0ms\u001b[0m\u001b[0;34m[\u001b[0m\u001b[0mi\u001b[0m\u001b[0;34m]\u001b[0m \u001b[0;34m!=\u001b[0m \u001b[0ms\u001b[0m\u001b[0;34m[\u001b[0m\u001b[0mlen\u001b[0m\u001b[0;34m(\u001b[0m\u001b[0ms\u001b[0m\u001b[0;34m)\u001b[0m \u001b[0;34m-\u001b[0m \u001b[0mi\u001b[0m\u001b[0;34m]\u001b[0m\u001b[0;34m:\u001b[0m\u001b[0;34m\u001b[0m\u001b[0;34m\u001b[0m\u001b[0m\n\u001b[0m\u001b[1;32m      5\u001b[0m       \u001b[0;32mreturn\u001b[0m \u001b[0;32mFalse\u001b[0m\u001b[0;34m\u001b[0m\u001b[0;34m\u001b[0m\u001b[0m\n\u001b[1;32m      6\u001b[0m \u001b[0;34m\u001b[0m\u001b[0m\n",
            "\u001b[0;31mIndexError\u001b[0m: string index out of range"
          ]
        }
      ]
    },
    {
      "cell_type": "code",
      "source": [],
      "metadata": {
        "id": "Z6hJ8zktNyRy"
      },
      "execution_count": null,
      "outputs": []
    },
    {
      "cell_type": "markdown",
      "source": [
        "# Testes automatizados"
      ],
      "metadata": {
        "id": "SG1x9IqZoEPb"
      }
    },
    {
      "cell_type": "markdown",
      "source": [
        "**doctest**"
      ],
      "metadata": {
        "id": "WAic40RiEj8s"
      }
    },
    {
      "cell_type": "code",
      "source": [
        "def collect_vowels(s):\n",
        "    \"\"\" (str) -> str\n",
        "    Return the vowels (a, e, i, o, and u) from s.\n",
        "    >>> collect_vowels('Happy Anniversary!')\n",
        "    'aAiea'\n",
        "    >>> collect_vowels('xyz')\n",
        "    ''\n",
        "    \"\"\"\n",
        "    vowels = ''\n",
        "    for char in s:\n",
        "        if char in 'aeiouAEIOU':\n",
        "            vowels = vowels + char\n",
        "    return vowels\n",
        "\n",
        "\n",
        "def count_vowels(s):\n",
        "    \"\"\" (str) -> int\n",
        "    Return the number of vowels (a, e, i, o, and u) in s.\n",
        "    >>> count_vowels('Happy Anniversary!')\n",
        "    5\n",
        "    >>> count_vowels('xyz')\n",
        "    0\n",
        "    \"\"\"\n",
        "    num_vowels = 0\n",
        "    for char in s:\n",
        "        if char in 'aeiouAEIOU':\n",
        "            num_vowels = num_vowels + 1\n",
        "    return num_vowels\n",
        "\n",
        "\n",
        "\n",
        "\n",
        "# No Shell, não há necessidade de escrever execução de functions uma por uma, é só chamar o doctest e ele mostrará qntas deram certo e qntas deram errado\n",
        "import doctest\n",
        "doctest.testmod()\n",
        "\n",
        "\n",
        "# Código abaixo, o doctest mostrará os erros presentes:\n",
        "def get_divisors(num, possible_divisors):\n",
        "    ''' (int, list of int) -> list of int\n",
        "    Return a list of the values from possible_divisors\n",
        "    that are divisors of num.\n",
        "    >>> get_divisors(8, [1, 2, 3])\n",
        "    [1, 2]\n",
        "    >>> get_divisors(4, [-2, 0, 2])\n",
        "    [-2, 2]\n",
        "    '''\n",
        "    divisors = []\n",
        "    for item in possible_divisors:\n",
        "        # CORRETO SERIA ASSIM: if item != 0 and num % item == 0:\n",
        "        if num % item == 0:\n",
        "            divisors.append(item)\n",
        "    return divisors\n",
        "\n",
        "if __name__ == '__main__':\n",
        "    import doctest\n",
        "    doctest.testmod()"
      ],
      "metadata": {
        "id": "T3qiO-Y9oPb2"
      },
      "execution_count": null,
      "outputs": []
    },
    {
      "cell_type": "markdown",
      "source": [
        "**main** e **name**\n",
        "\n",
        "O name (cercada de 2 underlines, no início e fim) chamará somente determinado trecho (main) de outro arquivo importado"
      ],
      "metadata": {
        "id": "Y7MyXFi_EnuD"
      }
    },
    {
      "cell_type": "code",
      "source": [
        "def is_palindrome_v1(s):\n",
        "    return reverse(s) == s\n",
        "\n",
        "\n",
        "def reverse(s):\n",
        "    rev = ''\n",
        "\n",
        "    for ch in s:\n",
        "        rev = ch + rev\n",
        "    return rev\n",
        "\n",
        "if __name__ == '__main__':\n",
        "    word = input('Enter a word: ')\n",
        "    if is_palindrome_v1(word):\n",
        "        print(word, 'is a palindrome.')\n",
        "    else:\n",
        "        print(word, 'is not a palindrome.')"
      ],
      "metadata": {
        "id": "w_3TWBvyFlGt"
      },
      "execution_count": null,
      "outputs": []
    },
    {
      "cell_type": "code",
      "source": [
        "import palindrome_v1\n",
        "\n",
        "def is_palindrome_v2(s):\n",
        "    n = len(s)\n",
        "    return s[:n // 2] == palindrome_v1.reverse(s[n - n // 2:])"
      ],
      "metadata": {
        "id": "LkcE8xAXFs5p"
      },
      "execution_count": null,
      "outputs": []
    },
    {
      "cell_type": "markdown",
      "source": [
        "**Criar próprios tipos**"
      ],
      "metadata": {
        "id": "-Ia-Xxedmqh7"
      }
    },
    {
      "cell_type": "code",
      "source": [
        "# Importar módulo/classe e diretamente\n",
        "str.count('syzygy', 'y')\n",
        "'syzygy'.count('y')"
      ],
      "metadata": {
        "id": "aDBnXTa_nvma"
      },
      "execution_count": null,
      "outputs": []
    },
    {
      "cell_type": "code",
      "source": [
        "# Criar classe personalizada: Self deverá também ser 'str', pois a classe herda tudo da classe 'str'\n",
        "class WordplayStr(str):\n",
        "    def same_start_and_end(self):\n",
        "        return self[0] == self[-1]\n",
        "\n",
        "if __name__ == '__main__':\n",
        "    import doctest\n",
        "    doctest.testmod()\n",
        "\n",
        "# Pode-se testar, se 1ª e última letra da string são iguais:\n",
        "s = 'test'\n",
        "type(s)\n",
        "same_start_and_end(s) # Retornará true, pois começa e termina com mesmas letras"
      ],
      "metadata": {
        "id": "4LCwZa1Hn2ao"
      },
      "execution_count": null,
      "outputs": []
    },
    {
      "cell_type": "markdown",
      "source": [
        "**unittest:**\n",
        "\n",
        "Ao executar o unittest, os pontos representam os testes aprovados. 'F' aparecem se as chamadas dos métodos/funções não estão corretos 'E' representa erro na função."
      ],
      "metadata": {
        "id": "pcdsmUV_pxwe"
      }
    },
    {
      "cell_type": "code",
      "source": [
        "# ---------------- FUNÇÃO EM doctest\n",
        "def get_divisors(num, possible_divisors):\n",
        "    divisors = []\n",
        "    for item in possible_divisors:\n",
        "        # if item != 0 and num % item == 0:\n",
        "        if num % item == 0:\n",
        "            divisors.append(item)\n",
        "    return divisors\n",
        "\n",
        "if __name__ == '__main__':\n",
        "    import doctest\n",
        "    doctest.testmod()\n",
        "\n",
        "# ---------------- FUNÇÃO EM unittest\n",
        "import unittest\n",
        "import divisors\n",
        "\n",
        "class TestDivisors(unittest.TestCase):\n",
        "    def test_divisors_example_1(self):\n",
        "        actual = divisors.get_divisors(8, [1, 2, 3])\n",
        "        expected = [1, 2]\n",
        "        self.assertEqual(expected, actual)\n",
        "\n",
        "    def test_divisors_example_2(self):\n",
        "        actual = divisors.get_divisors(4, [-2, 0, 2])\n",
        "        expected = [-2, 2]\n",
        "        self.assertEqual(expected, actual)\n",
        "\n",
        "if __name__ == '__main__':\n",
        "    unittest.main(exit=False) # exit False quando os testes estão somente dentro do idle"
      ],
      "metadata": {
        "id": "8GJnD060qkL6"
      },
      "execution_count": null,
      "outputs": []
    },
    {
      "cell_type": "markdown",
      "source": [
        "**Escolha de casos de teste**"
      ],
      "metadata": {
        "id": "XsZ3lqA-vANi"
      }
    },
    {
      "cell_type": "code",
      "source": [
        "# Contará as vogais minúsculas, seguindo as regras:\n",
        "# '' é 0 (empty string), 'a' é 1 (single char, vowel), 'b' é 0 (single char, non-vowel), 'pfffft' é 0 (several chars, no vowels), 'bandit' é 2 (several chars, some vowels), 'aeioua' é 6 (several chars, all vowels*)\n",
        "# Exemplo: count_lowercase_vowels('Happy Anniversary!') retornará 4\n",
        "def count_lowercase_vowels(s):\n",
        "    num_vowels = 0\n",
        "    for char in s:\n",
        "        if char in 'aeiou':\n",
        "            num_vowels += 1\n",
        "\treturn num_vowels"
      ],
      "metadata": {
        "id": "XKJGSRtcy2iG"
      },
      "execution_count": null,
      "outputs": []
    },
    {
      "cell_type": "markdown",
      "source": [
        "**função que modifica parâmetro**"
      ],
      "metadata": {
        "id": "dVXkuzzr14a8"
      }
    },
    {
      "cell_type": "code",
      "source": [
        "# doctest fará os passos abaixo comentados, e a lista 1 poderá sofrer modificações. Não mostrará retorno/feedback\n",
        "def remove_shared(L1, L2):\n",
        "    \"\"\" (list, list) -> NoneType\n",
        "    >>> list_1 = [1, 2, 3, 4, 5, 6]\n",
        "    >>> list_2 = [2, 4, 5, 7]\n",
        "    >>> remove_shared(list_1, list_2)\n",
        "    >>> list_1\n",
        "    [1, 3, 6]\n",
        "    >>> list_2\n",
        "    [2, 4, 5, 7]\n",
        "\t\"\"\"\n",
        "    for v in L2:\n",
        "        if v in L1:\n",
        "            L1.remove(v)"
      ],
      "metadata": {
        "id": "pxDmYeQO2bzg"
      },
      "execution_count": null,
      "outputs": []
    },
    {
      "cell_type": "code",
      "source": [
        "# unittest mostrará retorno\n",
        "import unittest\n",
        "import duplicates\n",
        "\n",
        "class TestRemoveShared(unittest.TestCase):\n",
        "    def test_general_case(self):\n",
        "        list_1 = [1, 2, 3, 4, 5, 6]\n",
        "        list_2 = [2, 4, 5, 7]\n",
        "        list_1_expected = [1, 3, 6]\n",
        "        list_2_expected = [2, 4, 5, 7]\n",
        "\n",
        "        duplicates.remove_shared(list_1, list_2)\n",
        "        self.assertEqual(list_1, list_1_expected)\n",
        "        self.assertEqual(list_2, list_2_expected)\n",
        "\n",
        "if __name__ == '__main__':\n",
        "    unittest.main(exit=False)"
      ],
      "metadata": {
        "id": "Zf73B3w-3PgR"
      },
      "execution_count": null,
      "outputs": []
    },
    {
      "cell_type": "markdown",
      "source": [
        "# Análise de algoritmos"
      ],
      "metadata": {
        "id": "LUpBT0uixMLR"
      }
    },
    {
      "cell_type": "markdown",
      "source": [
        "Funções lineares:\n",
        "- **print_ints**: nº de chamadas é igual a N. Tempo de execução cresce linearmente ao tamanho de N\n",
        "- **print_odd_ints**: nº de chamadas é metade de N, dependendo se N é par ou ímpar\n",
        "\n",
        "Funções quadráticas:\n",
        "- **print_pairs**: nº de chamadas é N², com fluxos diferentes em cada caso. Conforme N aumenta, as etapas aumentam mais rapidamente\n",
        "\n",
        "Funções logarítmicas:\n",
        "- **print_double_step**: Sempre que N é duplicado, um inteiro adicional é impresso, sendo o nº de etapas é proporcional a base logarítmica 2 de N. Conforme N aumenta, as etapas crescem mais lentamente"
      ],
      "metadata": {
        "id": "laKOJDycxSaQ"
      }
    },
    {
      "cell_type": "code",
      "source": [
        "# Linear Running Time Functions:\n",
        "def print_ints(n):\n",
        "    \"\"\" (int) -> NoneType\n",
        "    Print the integers from 1 to n, inclusive.\n",
        "    \"\"\"\n",
        "    for i in range(1, n + 1):\n",
        "        print(i)\n",
        "\n",
        "def print_odd_ints(n):\n",
        "    \"\"\" (int) -> NoneType\n",
        "    Print the odd values from 1 to n, inclusive.\n",
        "    \"\"\"\n",
        "    for i in range(1, n + 1, 2):\n",
        "        print(i)\n",
        "\n",
        "# Quadratic Functions:\n",
        "def print_pairs(n):\n",
        "    \"\"\" (int) -> NoneType\n",
        "    Print all combinations of pairs of integers 1 to n, inclusive.\n",
        "    \"\"\"\n",
        "    for i in range(1, n + 1):\n",
        "        for j in range(1, n + 1):\n",
        "            print(i, j)\n",
        "\n",
        "# Logarithmic Functions:\n",
        "def print_double_step(n):\n",
        "    \"\"\" (int) -> NoneType\n",
        "    Print integers from 1 to n inclusive, with an initial step size of 1 and each subsequent step size being twice as large as it was previously.\n",
        "    \"\"\"\n",
        "    i = 1\n",
        "    while i < n + 1:\n",
        "        print(i)\n",
        "        i *= 2"
      ],
      "metadata": {
        "id": "UzopF0l21IWM"
      },
      "execution_count": null,
      "outputs": []
    },
    {
      "cell_type": "markdown",
      "source": [
        "**Pesquisa linear**"
      ],
      "metadata": {
        "id": "wsPSHETF2ICf"
      }
    },
    {
      "cell_type": "markdown",
      "source": [
        "Busca linear (var.index) retorna primeiro índice do valor em questão. Se não encontrá-lo, retorna -1."
      ],
      "metadata": {
        "id": "yRiyeHl56job"
      }
    },
    {
      "cell_type": "code",
      "source": [
        "def linear_search(L, v):\n",
        "    \"\"\" (list, object) -> int\n",
        "    Return the index of the first occurrence of v in L, or return -1 if v is not in L.\n",
        "    >>> linear_search([2, 3, 5, 3], 2)\n",
        "    0\n",
        "    >>> linear_search([2, 3, 5, 3], 5)\n",
        "    2\n",
        "    >>> linear_search([2, 3, 5, 3], 8)\n",
        "    -1\n",
        "    \"\"\"\n",
        "    i = 0\n",
        "    length = len(L)\n",
        "    while i != length and v != L[i]:\n",
        "        i += 1\n",
        "    if i == length:\n",
        "        return -1\n",
        "    else:\n",
        "        return i"
      ],
      "metadata": {
        "id": "4wP8zfCVDI5X"
      },
      "execution_count": null,
      "outputs": []
    },
    {
      "cell_type": "markdown",
      "source": [
        "**Pesquisa binária**\n",
        "\n",
        "Ideal para buscas em listas ordenadas. O valor (v) buscado é jogado no meio da lista, onde a mesma é dividida ao meio. Se 'v' > valorAtualLista, sabe-se que toda a lista à esquerda não terá 'v', pois são todos valores menores. O mesmo é feito para as divisões sucessivas na lista, até encontrar 'v'.\n",
        "\n",
        "1. items < v | v | items > v\n",
        "2. items < v (b) | ? items | (e) items >= v\n",
        "3. (b) ? items (e)\n",
        "4. items < v\t| e | b | items < v\n",
        "\n",
        "Sua curva de desempenho (qtd de iterações) está para log2(itens). Exemplo: log2(1024) = 10, ou seja, fará 10 iterações até encontrar o valor."
      ],
      "metadata": {
        "id": "5wAna5zrtOnO"
      }
    },
    {
      "cell_type": "code",
      "source": [
        "def binary_search(L, v):\n",
        "    \"\"\" (list, object) -> int\n",
        "    Precondition: L is sorted from smallest to largest, and all the items in L can be compared to v.\n",
        "    Return the index of the first occurrence of v in L, or return -1 if v is not in L.\n",
        "    >>> binary_search([2, 3, 5, 7], 2)\n",
        "    0\n",
        "    >>> binary_search([2, 3, 5, 5], 5)\n",
        "    2\n",
        "    >>> binary_search([2, 3, 5, 7], 8)\n",
        "    -1\n",
        "    \"\"\"\n",
        "    b = 0\n",
        "    e = len(L) - 1\n",
        "\n",
        "    while b <= e:\n",
        "        m = (b + e) // 2\n",
        "        if L[m] < v:\n",
        "            b = m + 1\n",
        "        else:\n",
        "            e = m - 1\n",
        "\n",
        "    if b == len(L) or L[b] != v:\n",
        "        return -1\n",
        "    else:\n",
        "        return b"
      ],
      "metadata": {
        "id": "qATVvzo2y7R4"
      },
      "execution_count": null,
      "outputs": []
    },
    {
      "cell_type": "code",
      "source": [
        "import cProfile\n",
        "L = list(range(10000000))\n",
        "cProfile.run('binary_search(L, 10000000)')\n",
        "cProfile.run('linear_search(L, 10000000)')"
      ],
      "metadata": {
        "id": "gpCvf9er9i7_"
      },
      "execution_count": null,
      "outputs": []
    },
    {
      "cell_type": "markdown",
      "source": [
        "**Classificação de bolha**\n",
        "\n",
        "Bubble sort, começando pelos menores, vai invertendo ítens vizinhos, comparando-os menor/maior, mantendo sempre o maior à direita, para comparação futura, e os menores à esquerda. Lista classificada fica à direita. Exemplo prático, sendo i(index) e e(end of list):\n",
        "\n",
        "Pass 1:\n",
        "1. 7(i) 3 5 2(e)\n",
        "2. 3 7(i) 5 2(e)\n",
        "3. 3 5 7(i) 2(e)\n",
        "4. 3 5 2 7(e)\n",
        "\n",
        "Pass 2:\n",
        "1. 3(i) 5 2(e) | 7\n",
        "2. 3 5(i) 2(e) | 7\n",
        "3. 3 2 5(e) | 7\n",
        "\n",
        "Pass 3:\n",
        "1. 3(i) 2(e) | 5 7\n",
        "2. 2 3 5 7"
      ],
      "metadata": {
        "id": "NsZ_hJvi96cv"
      }
    },
    {
      "cell_type": "code",
      "source": [
        "def bubble_sort(L):\n",
        "    \"\"\" (list) -> NoneType\n",
        "    Sort the items of L from smallest to largest.\n",
        "    >>> L = [7, 3, 5, 2]\n",
        "    >>> bubble_sort(L)\n",
        "    >>> L\n",
        "    [2, 3, 5, 7]\n",
        "    \"\"\"\n",
        "    end = len(L) - 1 # The index of the last unsorted item\n",
        "\n",
        "    while end != 0:\n",
        "        # Bubble once through the unsorted section to move the largest item to index end\n",
        "        for i in range(end):\n",
        "            if L[i] > L[i + 1]:\n",
        "                L[i], L[i + 1] = L[i + 1], L[i]\n",
        "        end -= 1\n",
        "\n",
        "if __name__ == '__main__':\n",
        "    import doctest\n",
        "    doctest.testmod()"
      ],
      "metadata": {
        "id": "PU-HXFKtFEWG"
      },
      "execution_count": null,
      "outputs": []
    },
    {
      "cell_type": "markdown",
      "source": [
        "**Classificação por seleção**\n",
        "\n",
        "Selection sort, onde o primeiro valor(index) é substituído pelo menor valor da lista, e o primeiro valor fica no lugar do movido. Então, o segundo valor torna-se index, onde é substituído pelo segundo menor valor da lista, na parte ainda não classificada, o outro fica no lugar do movido. E assim sucessivamente. Lista classificada fica à esquerda.\n",
        "\n",
        "Pass 1:\n",
        "1. 3(i) 7 2 5\n",
        "2. 2 7 3 5\n",
        "\n",
        "Pass 2:\n",
        "1. 2 | 7(i) 3 5\n",
        "2. 2 | 3 7 5'\n",
        "\n",
        "Pass 3:\n",
        "1. 2 3 | 7(i) 5\n",
        "2. 2 3 5 7\n",
        "\n",
        "Pass 4:\n",
        "1. 2 3 5 | 7(i)"
      ],
      "metadata": {
        "id": "mwGtc59QFXiA"
      }
    },
    {
      "cell_type": "code",
      "source": [
        "def get_index_of_smallest(L, i):\n",
        "    \"\"\" (list, int) -> int\n",
        "    Return the index of the smallest item in L[i:].\n",
        "    >>> get_index_of_smallest([2, 7, 3, 5], 1)\n",
        "    2\n",
        "    \"\"\"\n",
        "    index_of_smallest = i # The index of the smallest item so far\n",
        "    for j in range(i + 1, len(L)):\n",
        "        if L[j] < L[index_of_smallest]:\n",
        "            index_of_smallest = j\n",
        "    return index_of_smallest\n",
        "\n",
        "def selection_sort(L):\n",
        "    \"\"\" (list) -> NoneType\n",
        "    Sort the items of L from smallest to largest.\n",
        "    >>> L = [3, 7, 2, 5]\n",
        "    >>> selection_sort(L)\n",
        "    >>> L\n",
        "    [2, 3, 5, 7]\n",
        "    \"\"\"\n",
        "    for i in range(len(L)):\n",
        "        # Find the index of the smallest item in L[i:] and swap that item with the item at index i.\n",
        "        index_of_smallest = get_index_of_smallest(L, i)\n",
        "        L[index_of_smallest], L[i] = L[i], L[index_of_smallest]\n",
        "\n",
        "if __name__ == '__main__':\n",
        "    import doctest\n",
        "    doctest.testmod()"
      ],
      "metadata": {
        "id": "sok68K8db48N"
      },
      "execution_count": null,
      "outputs": []
    },
    {
      "cell_type": "markdown",
      "source": [
        "**Classificação de inserção**\n",
        "\n",
        "Insert sort, index compara com o da direita e, se esse for menor, vai movendo-o até chegar à esquerda da lista, onde o antecessor é menor. Lista classificada fica à esquerda.\n",
        "\n",
        "Pass 1:\n",
        "1. 3(i) 7 2 5\n",
        "\n",
        "Pass 2:\n",
        "1. 3 | 7(i) 2 5\n",
        "\n",
        "Pass 3:\n",
        "1. 3 7 | 2(i) 5\n",
        "2. | 5(i)\n",
        "3. | 7(i) 5\n",
        "4. 3 | 7(i) 5\n",
        "5. 2 3 | 7(i) 5\n",
        "\n",
        "Pass 4:\n",
        "1. 2 3 7 | 5(i)\n",
        "2. 2 3 | 7(i)\n",
        "3. 2 3 5 | 7(i)\n",
        "4. 2 3 5 7"
      ],
      "metadata": {
        "id": "bETMp6E1cIrW"
      }
    },
    {
      "cell_type": "code",
      "source": [
        "def insert(L, i):\n",
        "    \"\"\" (list, int) -> NoneType\n",
        "    Precondition: L[:i] is sorted from smallest to largest.\n",
        "    Move L[i] to where it belongs in L[:i + 1].\n",
        "    >>> L = [7, 3, 5, 2]\n",
        "    >>> insert(L, 1)\n",
        "    >>> L\n",
        "    [3, 7, 5, 2]\n",
        "    \"\"\"\n",
        "    value = L[i] # The value to be inserted into the sorted part of the list\n",
        "    # Find the index, j, where the value belongs\n",
        "    # Make room for the value by shifting\n",
        "    j = i\n",
        "    while j != 0 and L[j - 1] > value:\n",
        "        L[j] = L[j - 1] # Shift L[j - 1] one position to the right to L[j]\n",
        "        j -= 1\n",
        "    L[j] = value # Put the value where it belongs\n",
        "\n",
        "def insertion_sort(L):\n",
        "    \"\"\" (list) -> NoneType\n",
        "    Sort the items of L from smallest to largest.\n",
        "    >>> L = [7, 3, 5, 2]\n",
        "    >>> insertion_sort(L)\n",
        "    >>> L\n",
        "    [2, 3, 5, 7]\n",
        "    \"\"\"\n",
        "    for i in range(len(L)):\n",
        "        insert(L, i)\n",
        "\n",
        "if __name__ == '__main__':\n",
        "    import doctest\n",
        "    doctest.testmod()"
      ],
      "metadata": {
        "id": "Qxaf6f80oQeQ"
      },
      "execution_count": null,
      "outputs": []
    },
    {
      "cell_type": "markdown",
      "source": [
        "# Programação Orientada a Objetos"
      ],
      "metadata": {
        "id": "i4-dMrIz46nO"
      }
    },
    {
      "cell_type": "markdown",
      "source": [
        "**Criação de novo tipo**"
      ],
      "metadata": {
        "id": "j5WhXbOU2aia"
      }
    },
    {
      "cell_type": "code",
      "source": [
        "class CashRegister:\n",
        "    def __init__(self, loonies, toonies, fives, tens, twenties):\n",
        "        \"\"\" (CashRegister, int, int, int, int, int) -> NoneType\n",
        "        A CashRegister with loonies, toonies, fives, tens, and twenties\n",
        "        >>> register = CashRegister(5, 5, 5, 5, 5)\n",
        "        >>> register.loonies: 5\n",
        "        >>> register.toonies: 5\n",
        "        >>> register.fives: 5\n",
        "        >>> register.tens: 5\n",
        "        >>> register.twenties: 5\n",
        "        \"\"\"\n",
        "        self.loonies = loonies\n",
        "        self.toonies = toonies\n",
        "        self.fives = fives\n",
        "        self.tens = tens\n",
        "        self.twenties = twenties\n",
        "\n",
        "    def get_total(self):\n",
        "        \"\"\" (CashRegister) -> int\n",
        "        Return the total amount of cash in the register\n",
        "        >>> register = CashRegister(5, 5, 5, 5, 5)\n",
        "        >>> register.get_total(): 190\n",
        "        \"\"\"\n",
        "        return self.loonies + self.toonies * 2 + self.fives * 5 + self.tens * 10 + self.twenties * 20\n",
        "\n",
        "    def add(self, count, denomination):\n",
        "        \"\"\" (CashRegister, int, str) -> NoneType\n",
        "        Add count items of denomination to the register\n",
        "        denomination is one of 'loonies', 'toonies', 'fives', 'tens', and 'twenties'\n",
        "        >>> register = CashRegister(5, 5, 5, 5, 5)\n",
        "        >>> register.add(2, 'toonies')\n",
        "        >>> register.toonies: 7\n",
        "        >>> register.add(1, 'tens')\n",
        "        >>> register.tens: 6\n",
        "        \"\"\"\n",
        "        if denomination == 'loonies':\n",
        "            self.loonies += count\n",
        "        elif denomination == 'toonies':\n",
        "            self.toonies += count\n",
        "        elif denomination == 'fives':\n",
        "            self.fives += count\n",
        "        elif denomination == 'tens':\n",
        "            self.tens += count\n",
        "        elif denomination == 'twenties':\n",
        "            self.twenties += count\n",
        "\n",
        "    def remove(self, count, denomination):\n",
        "        \"\"\" (CashRegister, int, str) -> NoneType\n",
        "        Remove count items of denomination from the register\n",
        "        denomination is one of 'loonies', 'toonies', 'fives', 'tens', and 'twenties'\n",
        "        >>> register = CashRegister(5, 5, 5, 5, 5)\n",
        "        >>> register.remove(2, 'toonies')\n",
        "        >>> register.toonies: 3\n",
        "        >>> register.remove(1, 'tens')\n",
        "        >>> register.tens: 4\n",
        "        \"\"\"\n",
        "        if denomination == 'loonies':\n",
        "            self.loonies -= count\n",
        "        elif denomination == 'toonies':\n",
        "            self.toonies -= count\n",
        "        elif denomination == 'fives':\n",
        "            self.fives -= count\n",
        "        elif denomination == 'tens':\n",
        "            self.tens -= count\n",
        "        elif denomination == 'twenties':\n",
        "            self.twenties -= count\n",
        "\n",
        "if __name__ == '__main__':\n",
        "    # A cash register with 5 loonies, 5 toonies, 5 fives, 5 tens, and 5 twenties, for a total of $190.\n",
        "    register = CashRegister(5, 5, 5, 5, 5)\n",
        "    print(register.get_total())\n",
        "    register.add(3, 'toonies')\n",
        "    register.remove(2, 'twenties')\n",
        "    print(register.get_total())"
      ],
      "metadata": {
        "id": "iIFqBTLW2jj8"
      },
      "execution_count": null,
      "outputs": []
    },
    {
      "cell_type": "markdown",
      "source": [
        "**Sintaxe Python (\\__eq\\__)**\n",
        "\n",
        "Método especial \\__eq\\__ faz mesmo que 'x==y'"
      ],
      "metadata": {
        "id": "_vZ2sFL1MEqx"
      }
    },
    {
      "cell_type": "code",
      "source": [
        "class CashRegister:\n",
        "    def __init__(self, loonies, toonies, fives, tens, twenties):\n",
        "        \"\"\" (CashRegister, int, int, int, int, int) -> NoneType\n",
        "        A CashRegister with loonies, toonies, fives, tens, and twenties\n",
        "        \"\"\"\n",
        "        self.loonies = loonies\n",
        "        self.toonies = toonies\n",
        "        self.fives = fives\n",
        "        self.tens = tens\n",
        "        self.twenties = twenties\n",
        "\n",
        "    def __eq__(self, other):\n",
        "        \"\"\" (CashRegister, CashRegister) -> bool\n",
        "        Return True iff this CashRegister has the same amount of money as other\n",
        "        >>> reg1 = CashRegister(2, 0, 0, 0, 0)\n",
        "        >>> reg2 = CashRegister(0, 1, 0, 0, 0)\n",
        "        >>> reg1 == reg2: True\n",
        "        \"\"\"\n",
        "        return self.get_total() == other.get_total()\n",
        "\n",
        "    def get_total(self):\n",
        "        \"\"\" (CashRegister) -> int\n",
        "        Return the total amount of cash in the register\n",
        "        \"\"\"\n",
        "        return self.loonies + self.toonies * 2 + self.fives * 5 + self.tens * 10 + self.twenties * 20\n",
        "\n",
        "    def add(self, count, denomination):\n",
        "        \"\"\" (CashRegister, int, str) -> NoneType\n",
        "        Add count items of denomination to the register\n",
        "        denomination is one of 'loonies', 'toonies', 'fives', 'tens', and 'twenties'\n",
        "        \"\"\"\n",
        "        if denomination == 'loonies':\n",
        "            self.loonies += count\n",
        "        elif denomination == 'toonies':\n",
        "            self.toonies += count\n",
        "        elif denomination == 'fives':\n",
        "            self.fives += count\n",
        "        elif denomination == 'tens':\n",
        "            self.tens += count\n",
        "        elif denomination == 'twenties':\n",
        "            self.twenties += count\n",
        "\n",
        "    def remove(self, count, denomination):\n",
        "        \"\"\" (CashRegister, int, str) -> NoneType\n",
        "        Remove count items of denomination from the register\n",
        "        denomination is one of 'loonies', 'toonies', 'fives', 'tens', and 'twenties'\n",
        "        \"\"\"\n",
        "        if denomination == 'loonies':\n",
        "            self.loonies -= count\n",
        "        elif denomination == 'toonies':\n",
        "            self.toonies -= count\n",
        "        elif denomination == 'fives':\n",
        "            self.fives -= count\n",
        "        elif denomination == 'tens':\n",
        "            self.tens -= count\n",
        "        elif denomination == 'twenties':\n",
        "            self.twenties -= count\n",
        "\n",
        "if __name__ == '__main__':\n",
        "    cr1 = CashRegister(2, 0, 0, 0, 0)\n",
        "    cr2 = CashRegister(0, 1, 0, 0, 0)\n",
        "    cr3 = CashRegister(1, 1, 0, 0, 0)\n",
        "    print(cr1 == cr2)\n",
        "    print(cr3 == cr2)"
      ],
      "metadata": {
        "id": "8rApywCqMSqs"
      },
      "execution_count": null,
      "outputs": []
    },
    {
      "cell_type": "markdown",
      "source": [
        "**Sintaxe Python (\\__str\\__)**\n",
        "\n",
        "Método especial \\__str\\__"
      ],
      "metadata": {
        "id": "nWBOKOxVNgqV"
      }
    },
    {
      "cell_type": "code",
      "source": [
        "class CashRegister:\n",
        "    def __init__(self, loonies, toonies, fives, tens, twenties):\n",
        "        \"\"\" (CashRegister, int, int, int, int, int) -> NoneType\n",
        "        A CashRegister with loonies, toonies, fives, tens, and twenties\n",
        "        \"\"\"\n",
        "        self.loonies = loonies\n",
        "        self.toonies = toonies\n",
        "        self.fives = fives\n",
        "        self.tens = tens\n",
        "        self.twenties = twenties\n",
        "\n",
        "    def __str__(self):\n",
        "        \"\"\" (CashRegister) -> str\n",
        "        Return a string representation of this CashRegister\n",
        "        >>> reg1 = CashRegister(1, 2, 3, 4, 5)\n",
        "        >>> reg1.__str__()\n",
        "        CashRegister: $160 ($1x1, $2x2, $5x3, $10x4, $20x5)\n",
        "        \"\"\"\n",
        "        return 'CashRegister: ' + '${0} ($1x{1}, $2x{2}, $5x{3}, $10x{4}, $20x{5})'.format(self.get_total(), self.loonies, self.toonies,self.fives, self.tens, self.twenties)\n",
        "        ## return 'CashRegister: $' + str(self.get_total()) + ' ($1x' + str(self.loonies) + ', $2x' + str(self.toonies) + ', $5x' + str(self.fives) + ', $10x' + str(self.tens) + ', $20x' + str(self.twenties) + ')'\n",
        "\n",
        "    def __eq__(self, other):\n",
        "        \"\"\" (CashRegister, CashRegister) -> bool\n",
        "        Return True iff this CashRegister has the same amount of money as other\n",
        "        >>> reg1 = CashRegister(2, 0, 0, 0, 0)\n",
        "        >>> reg2 = CashRegister(0, 1, 0, 0, 0)\n",
        "        >>> reg1 == reg2: True\n",
        "        \"\"\"\n",
        "        return self.get_total() == other.get_total()\n",
        "\n",
        "    def get_total(self):\n",
        "        \"\"\" (CashRegister) -> int\n",
        "        Return the total amount of cash in the register\n",
        "        \"\"\"\n",
        "        return self.loonies + self.toonies * 2 + self.fives * 5 + self.tens * 10 + self.twenties * 20\n",
        "\n",
        "    def add(self, count, denomination):\n",
        "        \"\"\" (CashRegister, int, str) -> NoneType\n",
        "        Add count items of denomination to the register\n",
        "        denomination is one of 'loonies', 'toonies', 'fives', 'tens', and 'twenties'\n",
        "        \"\"\"\n",
        "        if denomination == 'loonies':\n",
        "            self.loonies += count\n",
        "        elif denomination == 'toonies':\n",
        "            self.toonies += count\n",
        "        elif denomination == 'fives':\n",
        "            self.fives += count\n",
        "        elif denomination == 'tens':\n",
        "            self.tens += count\n",
        "        elif denomination == 'twenties':\n",
        "            self.twenties += count\n",
        "\n",
        "    def remove(self, count, denomination):\n",
        "        \"\"\" (CashRegister, int, str) -> NoneType\n",
        "        Remove count items of denomination from the register\n",
        "        denomination is one of 'loonies', 'toonies', 'fives', 'tens', and 'twenties'\n",
        "        \"\"\"\n",
        "        if denomination == 'loonies':\n",
        "            self.loonies -= count\n",
        "        elif denomination == 'toonies':\n",
        "            self.toonies -= count\n",
        "        elif denomination == 'fives':\n",
        "            self.fives -= count\n",
        "        elif denomination == 'tens':\n",
        "            self.tens -= count\n",
        "        elif denomination == 'twenties':\n",
        "            self.twenties -= count\n",
        "\n",
        "if __name__ == '__main__':\n",
        "    cr1 = CashRegister(2, 0, 0, 0, 0)\n",
        "    cr2 = CashRegister(0, 1, 0, 0, 0)\n",
        "    cr3 = CashRegister(1, 1, 0, 0, 0)\n",
        "    print(cr1) #Aqui 1\n",
        "    print(cr2) #Aqui 2\n",
        "    print(cr1 == cr2)\n",
        "    print(cr3 == cr2)"
      ],
      "metadata": {
        "id": "q3KN7i4zPGTL"
      },
      "execution_count": null,
      "outputs": []
    },
    {
      "cell_type": "markdown",
      "source": [
        "**Relacionamento entre Classes**"
      ],
      "metadata": {
        "id": "1IU8LApcTXgj"
      }
    },
    {
      "cell_type": "code",
      "source": [
        "class Song:\n",
        "    def __init__(self, artist, title, minutes, seconds):\n",
        "        \"\"\" (Song, str, str, int, int) -> NoneType\n",
        "        A Song with an artist, title, minutes, and seconds\n",
        "        >>> song = Song('Neil Young', 'Harvest Moon', 5, 3)\n",
        "        >>> song.artist: 'Neil Young'\n",
        "        >>> song.title: 'Harvest Moon'\n",
        "        >>> song.minutes: 5\n",
        "        >>> song.seconds: 3\n",
        "        \"\"\"\n",
        "        self.title = title\n",
        "        self.artist = artist\n",
        "        self.minutes = minutes\n",
        "        self.seconds = seconds\n",
        "\n",
        "    def __str__(self):\n",
        "        \"\"\" (Song) -> str\n",
        "        Return a string representation of this song\n",
        "        >>> song = Song('Neil Young', 'Harvest Moon', 5, 3)\n",
        "        >>> str(song): 'Neil Young, Harvest Moon (5:03)'\n",
        "        \"\"\"\n",
        "        return self.artist + ', ' + self.title + ' (' + str(self.minutes) + ':' + str(self.seconds).rjust(2, '0') + ')'\n",
        "\n",
        "if __name__ == '__main__':\n",
        "    s1 = Song(\"Neil Young\", \"Harvest Moon\", 5, 3)\n",
        "    s2 = Song(\"Serena Ryder\", \"Stompa\", 3, 15)\n",
        "    print(s1)\n",
        "    print(s2)"
      ],
      "metadata": {
        "id": "8zmWRmNyTaCx"
      },
      "execution_count": null,
      "outputs": []
    },
    {
      "cell_type": "code",
      "source": [
        "import song\n",
        "\n",
        "class Playlist:\n",
        "    def __init__(self, title):\n",
        "        \"\"\" (Playlist, str) -> NoneType\n",
        "        >>> playlist = Playlist('Canadian Artists')\n",
        "        >>> playlist.title\n",
        "        'Canadian Artists'\n",
        "        >>> playlist.songs\n",
        "        []\n",
        "        \"\"\"\n",
        "        self.title = title\n",
        "        self.songs = []\n",
        "\n",
        "    def add(self, song):\n",
        "        \"\"\" (Playlist, Song) -> NoneType\n",
        "        Add song to this playlist\n",
        "        >>> stompa = song.Song(\"Serena Ryder\", \"Stompa\", 3, 15)\n",
        "        >>> playlist = Playlist('Canadian Artists')\n",
        "        >>> playlist.add(stompa)\n",
        "        >>> playlist.songs\n",
        "        [stompa]\n",
        "        \"\"\"\n",
        "        self.songs.append(song)\n",
        "\n",
        "    def get_duration(self):\n",
        "        \"\"\" (Playlist) -> (int, int)\n",
        "        Return the duration of this playlist as tuple of minutes and seconds\n",
        "        >>> playlist = Playlist('Canadian Artists')\n",
        "        >>> playlist.add(song.Song('Neil Young', 'Harvest Moon', 5, 3))\n",
        "        >>> playlist.add(song.Song('Serena Ryder', 'Stompa', 3, 15)\n",
        "        >>> playlist.duration()\n",
        "        (8, 18)\n",
        "        \"\"\"\n",
        "        total_minutes = 0\n",
        "        total_seconds = 0\n",
        "        for song in self.songs:\n",
        "            total_minutes += song.minutes\n",
        "            total_seconds += song.seconds\n",
        "        return (total_minutes + total_seconds // 60,  total_seconds % 60)\n",
        "\n",
        "    def __str__(self):\n",
        "        \"\"\" (Song) -> str\n",
        "        Return a string representation of this playlist\n",
        "        >>> playlist = Playlist('Canadian Artists')\n",
        "        >>> playlist.add(song.Song('Neil Young', 'Harvest Moon', 5, 3))\n",
        "        >>> playlist.add(song.Song('Serena Ryder', 'Stompa', 3, 15)\n",
        "        '''Canadian Artists (8:18)\n",
        "        Neil Young, Harvest Moon (5:03)\n",
        "        Serena Ryder, Stompa (3:15)'''\n",
        "        \"\"\"\n",
        "        duration = self.get_duration()\n",
        "        minutes = str(duration[0])\n",
        "        seconds = str(duration[1]).rjust(2, '0')\n",
        "        result = self.title + ' (' + minutes + ':' + seconds + ')'\n",
        "        # Append the songs in the playlist\n",
        "        i = 1\n",
        "        for song in self.songs:\n",
        "            result += '\\n' + str(i) + '. ' + str(song)\n",
        "            i += 1\n",
        "        return result\n",
        "\n",
        "if __name__ == '__main__':\n",
        "    playlist = Playlist('Canadian Artists')\n",
        "    playlist.add(song.Song(\"Neil Young\", \"Harvest Moon\", 5, 3))\n",
        "    playlist.add(song.Song(\"Serena Ryder\", \"Stompa\", 3, 15))\n",
        "    playlist.add(song.Song(\"Stompin' Tom Connors\", \"The Hockey Song\", 2, 17))\n",
        "    print(playlist)"
      ],
      "metadata": {
        "id": "meDphMw_TpSx"
      },
      "execution_count": null,
      "outputs": []
    },
    {
      "cell_type": "markdown",
      "source": [
        "# Lição 7"
      ],
      "metadata": {
        "id": "WhkNpsFZIZ2o"
      }
    },
    {
      "cell_type": "markdown",
      "source": [
        "**Passagem de funções como argumentos:**"
      ],
      "metadata": {
        "id": "WLUhjseCIehG"
      }
    },
    {
      "cell_type": "code",
      "source": [
        "def function_runner(f):\n",
        "    \"\"\" (function) -> NoneType\n",
        "    Call f.\n",
        "    \"\"\"\n",
        "    f()\n",
        "\n",
        "def function_1():\n",
        "    print(\"function_1 was called.\")\n",
        "\n",
        "def function_2():\n",
        "    print(\"function_2 was called.\")\n",
        "\n",
        "if __name__ == '__main__':\n",
        "    function_runner(function_1)\n",
        "    function_runner(function_2)"
      ],
      "metadata": {
        "id": "t-2NBOb9K4pA"
      },
      "execution_count": null,
      "outputs": []
    },
    {
      "cell_type": "markdown",
      "source": [
        "**Atribuição de valores padrão aos parâmetros:**"
      ],
      "metadata": {
        "id": "3OKBpuqwLCw4"
      }
    },
    {
      "cell_type": "code",
      "source": [
        "def add_greeting(L=[]):\n",
        "    \"\"\" (list) -> NoneType\n",
        "    Append 'hello' to L and print L.\n",
        "    >>> L = ['hi', 'bonjour']\n",
        "    >>> f(L)\n",
        "    >>> L\n",
        "    ['hi', 'bonjour', 'hello']\n",
        "    \"\"\"\n",
        "    L.append('hello')\n",
        "    print(L)"
      ],
      "metadata": {
        "id": "lj9f7KzzLIgX"
      },
      "execution_count": null,
      "outputs": []
    },
    {
      "cell_type": "code",
      "source": [
        "def every_nth(L, n=1):\n",
        "    \"\"\" (list, int) -> list\n",
        "    Precondition: 0 <= n < len(L)\n",
        "    Return a list containing every nth item of L,\n",
        "    starting at index 0.\n",
        "    >>> every_nth([1, 2, 3, 4, 5, 6], n=2)\n",
        "    [1, 3, 5]\n",
        "    >>> every_nth([1, 2, 3, 4, 5, 6], 3)\n",
        "    [1, 4]\n",
        "    >>> every_nth([1, 2, 3, 4, 5, 6])\n",
        "    [1, 2, 3, 4, 5, 6]\n",
        "    \"\"\"\n",
        "    result = []\n",
        "    for i in range(0, len(L), n):\n",
        "        result.append(L[i])\n",
        "    return result\n",
        "\n",
        "if __name__ == '__main__':\n",
        "    import doctest\n",
        "    doctest.testmod()"
      ],
      "metadata": {
        "id": "RTnrmwowSFWS"
      },
      "execution_count": null,
      "outputs": []
    },
    {
      "cell_type": "markdown",
      "source": [
        "**Exceptions:**"
      ],
      "metadata": {
        "id": "55km6H5Ykizs"
      }
    },
    {
      "cell_type": "code",
      "source": [
        "def raise_an_exception(v):\n",
        "    raise ValueError(\n",
        "        \"{} is not a valid value.\".format(v))\n",
        "\n",
        "def main():\n",
        "    raise_an_exception(3)\n",
        "\n",
        "if __name__ == '__main__':\n",
        "    try:\n",
        "        main()\n",
        "    except ValueError as ve:\n",
        "        print(ve)"
      ],
      "metadata": {
        "id": "n5U4gfCFlFlM"
      },
      "execution_count": null,
      "outputs": []
    },
    {
      "cell_type": "code",
      "source": [
        "def every_nth(L, n=1):\n",
        "    \"\"\" (list, int) -> list\n",
        "    Precondition: 0 <= n < len(L)\n",
        "    Return a list containing every nth item of L,\n",
        "    starting at index 0.\n",
        "    >>> every_nth([1, 2, 3, 4, 5, 6], n=2)\n",
        "    [1, 3, 5]\n",
        "    >>> every_nth([1, 2, 3, 4, 5, 6], 3)\n",
        "    [1, 4]\n",
        "    >>> every_nth([1, 2, 3, 4, 5, 6])\n",
        "    [1, 2, 3, 4, 5, 6]\n",
        "    \"\"\"\n",
        "    assert 0 <= n < len(L), '{} is out of range.'.format(n)\n",
        "    result = []\n",
        "\n",
        "    for i in range(0, len(L), n):\n",
        "        result.append(L[i])\n",
        "    return result\n",
        "\n",
        "if __name__ == '__main__':\n",
        "    import doctest\n",
        "    doctest.testmod()"
      ],
      "metadata": {
        "id": "1dvvV8DYlHXl"
      },
      "execution_count": null,
      "outputs": []
    }
  ],
  "metadata": {
    "colab": {
      "provenance": [],
      "collapsed_sections": [
        "f9XGg3l_txaP",
        "Bb0fjNkAJuYR",
        "SG1x9IqZoEPb",
        "LUpBT0uixMLR",
        "i4-dMrIz46nO"
      ]
    },
    "kernelspec": {
      "display_name": "Python 3",
      "name": "python3"
    }
  },
  "nbformat": 4,
  "nbformat_minor": 0
}